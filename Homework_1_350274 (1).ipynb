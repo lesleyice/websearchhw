{
 "cells": [
  {
   "cell_type": "markdown",
   "metadata": {},
   "source": [
    "# Homework 1: Preprocessing and Text Classification"
   ]
  },
  {
   "cell_type": "markdown",
   "metadata": {
    "collapsed": true
   },
   "source": [
    "Student Name:Bing Yuan\n",
    "\n",
    "Student ID:350274\n",
    "\n",
    "Python version used:3.5.4"
   ]
  },
  {
   "cell_type": "markdown",
   "metadata": {},
   "source": [
    "## General info"
   ]
  },
  {
   "cell_type": "markdown",
   "metadata": {},
   "source": [
    "<b>Due date</b>: 11pm, Sunday March 18th\n",
    "\n",
    "<b>Submission method</b>: see LMS\n",
    "\n",
    "<b>Submission materials</b>: completed copy of this iPython notebook\n",
    "\n",
    "<b>Late submissions</b>: -20% per day\n",
    "\n",
    "<b>Marks</b>: 5% of mark for class\n",
    "\n",
    "<b>Overview</b>: In this homework, you'll be using a corpus of tweets to do tokenisation of hashtags and build polarity classifers using bag of word (BOW) features.\n",
    "\n",
    "<b>Materials</b>: See the main class LMS page for information on the basic setup required for this class, including an iPython notebook viewer and the python packages NLTK, Numpy, Scipy, Matplotlib, Scikit-Learn, and Gensim. In particular, if you are not using a lab computer which already has it installed, we recommend installing all the data for NLTK, since you will need various parts of it to complete this assignment. You can also use any Python built-in packages, but do not use any other 3rd party packages (the packages listed above are all fine to use); if your iPython notebook doesn't run on the marker's machine, you will lose marks.  \n",
    "\n",
    "<b>Evaluation</b>: Your iPython notebook should run end-to-end without any errors in a few minutes, and you must follow all instructions provided below, including specific implementation requirements and instructions for what needs to be printed (please avoid printing output we don't ask for). The amount each section is worth is given in parenthesis after the instructions. You will be marked not only on the correctness of your methods, but also the quality and efficency of your code: in particular, you should be careful to use Python built-in functions and operators when appropriate and pick descriptive variable names that adhere to <a href=\"https://www.python.org/dev/peps/pep-0008/\">Python style requirements</a>. If you think it might be unclear what you are doing, you should comment your code to help the marker make sense of it.\n",
    "\n",
    "<b>Extra credit</b>: Each homework has a task which is optional with respect to getting full marks on the assignment, but that can be used to offset any points lost on this or any other homework assignment (but not the final project or the exam). We recommend you skip over this step on your first pass, and come back if you have time: the amount of effort required to receive full marks (1 point) on an extra credit question will be substantially more than earning the same amount of credit on other parts of the homework.\n",
    "\n",
    "<b>Updates</b>: Any major changes to the assignment will be announced via LMS. Minor changes and clarifications will be announced in the forum on LMS, we recommend you check the forum regularly.\n",
    "\n",
    "<b>Academic Misconduct</b>: For most people, collaboration will form a natural part of the undertaking of this homework, and we encourge you to discuss it in general terms with other students. However, this ultimately is still an individual task, and so reuse of code or other instances of clear influence will be considered cheating. We will be checking submissions for originality and will invoke the University’s <a href=\"http://academichonesty.unimelb.edu.au/policy.html\">Academic Misconduct policy</a> where inappropriate levels of collusion or plagiarism are deemed to have taken place.\n"
   ]
  },
  {
   "cell_type": "markdown",
   "metadata": {},
   "source": [
    "## Preprocessing"
   ]
  },
  {
   "cell_type": "markdown",
   "metadata": {
    "collapsed": true
   },
   "source": [
    "<b>Instructions</b>: For this homework we will be using the tweets in the <i>twitter_samples</i> corpus included with NLTK. You should start by accessing these tweets. Use the <i>strings</i> method included in the NLTK corpus reader for <i>twitter_samples</i> to access the tweets (as raw strings). Iterate over the full corpus, and print out the average length, in characters, of the tweets in the corpus. (0.5)\n"
   ]
  },
  {
   "cell_type": "code",
   "execution_count": 1,
   "metadata": {},
   "outputs": [
    {
     "data": {
      "text/plain": [
       "103.85176666666666"
      ]
     },
     "execution_count": 1,
     "metadata": {},
     "output_type": "execute_result"
    }
   ],
   "source": [
    "from nltk.corpus import twitter_samples\n",
    "all_twitts=twitter_samples.strings();\n",
    "average_len = sum(len(each_twitts) for each_twitts in all_twitts) / len(all_twitts);\n",
    "average_len"
   ]
  },
  {
   "cell_type": "markdown",
   "metadata": {},
   "source": [
    "<b>Instructions</b>: Hashtags (i.e. topic tags which start with #) pose an interesting tokenisation problem because they often include multiple words written without spaces or capitalization. You should use a regular expression to extract all hashtags of length 8 or longer which consist only of lower case letters (other than the # at the beginning, of course, though this should be stripped off as part of the extraction process). Do <b>not</b> tokenise the entire tweet as part of this process. The hashtag might occur at the beginning or the end of the tweet; you should double-check that you aren't missing any. After you have collected them into a list, print out number of hashtags you have collected: for full credit, you must get the exact number that we expect.  (1.0)"
   ]
  },
  {
   "cell_type": "code",
   "execution_count": 58,
   "metadata": {},
   "outputs": [
    {
     "name": "stdout",
     "output_type": "stream",
     "text": [
      "1558\n"
     ]
    }
   ],
   "source": [
    "import re\n",
    "hashtag_list =[];\n",
    "for each_twitts in all_twitts:\n",
    "    hashtag=re.findall(r\"#[a-z]{8,}\", each_twitts)\n",
    "    hashtag_list=hashtag_list+hashtag\n",
    "#print(hashtag_list)\n",
    "print(len(hashtag_list))"
   ]
  },
  {
   "cell_type": "markdown",
   "metadata": {},
   "source": [
    "<b>Instructions</b>: Now, tokenise the hashtags you've collected. To do this, you should implement a reversed version of the MaxMatch algorithm discussed in class (and in the reading), where matching begins at the end of the hashtag and progresses backwards. NLTK has a list of words that you can use for matching, see starter code below. Be careful about efficiency with respect to doing word lookups. One extra challenge you have to deal with is that the provided list of words includes only lemmas: your MaxMatch algorithm should match inflected forms by converting them into lemmas using the NLTK lemmatiser before matching. Note that the list of words is incomplete, and, if you are unable to make any longer match, your code should default to matching a single letter. Create a new list of tokenised hashtags (this should be a list of lists of strings) and use slicing to print out the last 20 hashtags in the list. (1.0)"
   ]
  },
  {
   "cell_type": "code",
   "execution_count": 4,
   "metadata": {},
   "outputs": [
    {
     "name": "stdout",
     "output_type": "stream",
     "text": [
      "['wow campaign', 'social security', 'tory lies', 'election', 'b i ase d b b c', 'labour doorstep', 'b i ase d b b c', 'li blab con', 'b b c debate', 'mi li fandom', 'u k parliament', 'bedroom tax', 'disability', 'can nab is', 'vote green', 'l lan el li h u stings', 'bedroom tax', 'disability', 'bankrupt', 'v o t eu kip']\n"
     ]
    }
   ],
   "source": [
    "import nltk\n",
    "from nltk.stem import WordNetLemmatizer\n",
    "lemmatizer = WordNetLemmatizer()\n",
    "\n",
    "words = nltk.corpus.words.words() # words is a Python list\n",
    "word_list=[]\n",
    "\n",
    "lemmatizer = WordNetLemmatizer()  \n",
    "  \n",
    "def max_match(text):  \n",
    "    final_point = len(text)  \n",
    "    start_point=0\n",
    "    result = ''  \n",
    "    while len(text) > 0:   \n",
    "        \n",
    "        word = lemmatizer.lemmatize(text[start_point:final_point])  \n",
    "        \n",
    "        if word in words:  \n",
    "            \n",
    "            result = ' ' + text[start_point:]+result\n",
    "            text = text[:start_point] \n",
    "            start_point=0\n",
    "            final_point = len(text)  \n",
    "        else:  \n",
    "            start_point = start_point+1 \n",
    "    \n",
    "    return result[1:]  \n",
    " \n",
    "\n",
    "word_list=[max_match(each_hashtag.strip(\"#\")) for each_hashtag in hashtag_list[-20:]]\n",
    "\n",
    "print (word_list)\n"
   ]
  },
  {
   "cell_type": "markdown",
   "metadata": {},
   "source": [
    "### Extra Credit (Optional)\n",
    "<b>Instructions</b>: Implement the forward version of the MaxMatch algorithm as well, and print out all the hashtags which give different results for the two versions of MaxMatch. Your main task is to come up with a good way to select which of the two segmentations is better for any given case, and demonstrate that it works significantly better than using a single version of the algorithm for all hashtags. (1.0)"
   ]
  },
  {
   "cell_type": "code",
   "execution_count": 5,
   "metadata": {},
   "outputs": [
    {
     "name": "stdout",
     "output_type": "stream",
     "text": [
      "['wow campaign', 'socials e cur it y', 'tory lies', 'election', 'bias e d b b c', 'labour doorstep', 'bias e d b b c', 'li blab con', 'b b c debate', 'mil if and om', 'u k parliament', 'bedroom tax', 'disability', 'canna b is', 'vote green', 'l lane l li husting s', 'bedroom tax', 'disability', 'bankrupt', 'vote u kip']\n"
     ]
    }
   ],
   "source": [
    "import nltk\n",
    "from nltk.stem import WordNetLemmatizer\n",
    "lemmatizer = WordNetLemmatizer()\n",
    "\n",
    "words = nltk.corpus.words.words() # words is a Python list\n",
    "word_list=[]\n",
    "\n",
    "lemmatizer = WordNetLemmatizer()  \n",
    "  \n",
    "def max_match(text):  \n",
    "    position = len(text)  \n",
    "    result = ''  \n",
    "    while len(text) > 0:         \n",
    "        word = lemmatizer.lemmatize(text[0:position])  \n",
    "        if word in words:  \n",
    "            result = result + text[0:position] + ' ' \n",
    "            #print(result)\n",
    "            text = text[position:]  \n",
    "            position = len(text)  \n",
    "        else:  \n",
    "            position = position-1 \n",
    "    \n",
    "    return result[0:-1]  \n",
    " \n",
    "#print(hashtag_list[-2:]) \n",
    "word_list=[max_match(each_hashtag.strip(\"#\")) for each_hashtag in hashtag_list[-20:]]\n",
    "\n",
    "print (word_list)\n"
   ]
  },
  {
   "cell_type": "markdown",
   "metadata": {},
   "source": [
    "## Text classification (Not Optional)"
   ]
  },
  {
   "cell_type": "markdown",
   "metadata": {},
   "source": [
    "<b>Instructions</b>: The twitter_sample corpus has two subcorpora corresponding to positive and negative tweets. You can access already tokenised versions using the <i> tokenized </i> method, as given in the code sample below. Iterate through these two corpora and build training, development, and test sets for use with Scikit-learn. You should exclude stopwords (from the built-in NLTK list) and tokens with non-alphabetic characters (this is very important you do this because emoticons were used to build the corpus, if you don't remove them performance will be artificially high). You should randomly split each subcorpus, using 80% of the tweets for training, 10% for development, and 10% for testing; make sure you do this <b>before</b> combining the tweets from the positive/negative subcorpora, so that the sets are <i>stratified</i>, i.e. the exact ratio of positive and negative tweets is preserved across the three sets. (1.0)"
   ]
  },
  {
   "cell_type": "code",
   "execution_count": 174,
   "metadata": {},
   "outputs": [
    {
     "name": "stdout",
     "output_type": "stream",
     "text": [
      "[nltk_data] Downloading package stopwords to\n",
      "[nltk_data]     C:\\Users\\BingLesleyYuan\\AppData\\Roaming\\nltk_data...\n",
      "[nltk_data]   Package stopwords is already up-to-date!\n"
     ]
    }
   ],
   "source": [
    "import re\n",
    "import random\n",
    "nltk.download('stopwords')\n",
    "from nltk.corpus import stopwords\n",
    "from sklearn.feature_extraction import DictVectorizer\n",
    "from sklearn.feature_extraction.text import CountVectorizer\n",
    "\n",
    "vectorizer = DictVectorizer()\n",
    "\n",
    "stopwords = set(stopwords.words('english'))\n",
    "positive_tweets_words_list =[];\n",
    "negative_tweets_words_list =[];\n",
    "positive_tweets = nltk.corpus.twitter_samples.tokenized(\"positive_tweets.json\")\n",
    "negative_tweets = nltk.corpus.twitter_samples.tokenized(\"negative_tweets.json\")\n",
    "\n",
    "for positive_tweet in positive_tweets:\n",
    "    filtered_pos_twitt=[]\n",
    "    for word in positive_tweet:\n",
    "        word = word.lower()\n",
    "        if word.isalpha() :\n",
    "            if word not in stopwords:\n",
    "                filtered_pos_twitt.append(word)\n",
    "    filtered_pos_twitt.append('pos')\n",
    "    positive_tweets_words_list.append(filtered_pos_twitt)\n",
    "    \n",
    "    \n",
    "for negative_tweet in negative_tweets:\n",
    "    filtered_neg_twitt=[]\n",
    "    for word in negative_tweet:\n",
    "        word = word.lower()\n",
    "        if word.isalpha() :\n",
    "            if word not in stopwords:\n",
    "                filtered_neg_twitt.append(word)\n",
    "    filtered_neg_twitt.append('neg')\n",
    "    negative_tweets_words_list.append(filtered_neg_twitt)\n",
    "    \n",
    "pos_train_set_pt =int(len(positive_tweets_words_list)*0.8)\n",
    "pos_dev_set_pt=int(len(positive_tweets_words_list)*0.9)\n",
    "\n",
    "neg_train_set_pt =int(len(negative_tweets_words_list)*0.8)\n",
    "neg_dev_set_pt=int(len(negative_tweets_words_list)*0.9)\n",
    "\n",
    "random.shuffle(positive_tweets_words_list)\n",
    "pos_train_set=positive_tweets_words_list[:pos_train_set_pt]\n",
    "pos_dev_set=positive_tweets_words_list[pos_train_set_pt:pos_dev_set_pt]\n",
    "pos_test_set=positive_tweets_words_list[pos_dev_set_pt:]\n",
    "\n",
    "random.shuffle(negative_tweets_words_list)\n",
    "neg_train_set=negative_tweets_words_list[:neg_train_set_pt]\n",
    "neg_dev_set=negative_tweets_words_list[neg_train_set_pt:neg_dev_set_pt]\n",
    "neg_test_set=negative_tweets_words_list[neg_dev_set_pt:]\n",
    "\n",
    "train_set_all = pos_train_set+neg_train_set\n",
    "dev_set_all=pos_dev_set+neg_dev_set\n",
    "test_set_all=pos_test_set+neg_test_set\n",
    "\n",
    "def get_BOW(text):\n",
    "    BOW = {}\n",
    "    for word in text:\n",
    "        BOW[word] = BOW.get(word,0) + 1\n",
    "    return BOW\n",
    "\n",
    "def prepare_data(feature_extractor,tweets):\n",
    "    feature_matrix = []\n",
    "    classifications = []\n",
    "    for twitter in tweets:\n",
    "        feature_dict = feature_extractor(twitter[:-1])   \n",
    "        feature_matrix.append(feature_dict)\n",
    "        classifications.append(twitter[-1])\n",
    "\n",
    "    dataset = vectorizer.fit_transform(feature_matrix)\n",
    "    return dataset,classifications\n",
    "\n",
    "def prepare_test_data(feature_extractor,tweets):\n",
    "    feature_matrix = []\n",
    "    classifications = []\n",
    "    for twitter in tweets:\n",
    "        feature_dict = feature_extractor(twitter[:-1])   \n",
    "        feature_matrix.append(feature_dict)\n",
    "        classifications.append(twitter[-1])\n",
    "\n",
    "    dataset = vectorizer.transform(feature_matrix)\n",
    "    return dataset,classifications\n",
    "\n",
    "\n",
    "train_dataset,train_classifications = prepare_data(get_BOW,train_set_all)\n",
    "dev_dataset,dev_classifications = prepare_test_data(get_BOW,dev_set_all)\n",
    "test_dataset,test_classifications = prepare_test_data(get_BOW,test_set_all)\n",
    "\n"
   ]
  },
  {
   "cell_type": "markdown",
   "metadata": {},
   "source": [
    "<b>Instructions</b>: Now, let's build some classifiers. Here, we'll be comparing Naive Bayes and Logistic Regression. For each, you need to first find a good value for their main regularisation (hyper)parameters, which you should identify using the scikit-learn docs or other resources. Use the development set you created for this tuning process; do <b>not</b> use crossvalidation in the training set, or involve the test set in any way. You don't need to show all your work, but you do need to print out the accuracy with enough different settings to strongly suggest you have found an optimal or near-optimal choice. We should not need to look at your code to interpret the output. (1.0)"
   ]
  },
  {
   "cell_type": "code",
   "execution_count": 175,
   "metadata": {},
   "outputs": [],
   "source": [
    "from sklearn.naive_bayes import MultinomialNB\n",
    "from sklearn.linear_model import LogisticRegression\n",
    "from sklearn.grid_search import GridSearchCV\n",
    "import numpy\n",
    "\n",
    "#clf_NB = MultinomialNB().fit(train_dataset, train_classifications)\n",
    "parameters_NB = {\n",
    "  'alpha': numpy.arange(0.1, 10, 0.1)}\n",
    "\n",
    "clf_NB_valid = GridSearchCV(\n",
    "        MultinomialNB(), parameters_NB,\n",
    "        scoring=\"accuracy\" \n",
    "    )\n",
    "clf_NB_valid.fit(dev_dataset, dev_classifications)\n",
    "#print(\"The best parameter set found was:\\n\",clf_NB_valid.best_params_,clf_NB_valid.best_estimator_)\n",
    "best_alpha =clf_NB_valid.best_params_.get(\"alpha\")\n",
    "clf_NB = MultinomialNB(best_alpha).fit(train_dataset, train_classifications)\n",
    "\n",
    "\n",
    "parameters_LR = {'C': numpy.arange(0.1, 10, 0.1) }\n",
    "clf_LR_valid =GridSearchCV(\n",
    "       LogisticRegression(),\n",
    "      parameters_LR,\n",
    "        scoring=\"accuracy\" )\n",
    "\n",
    "clf_LR_valid.fit(dev_dataset, dev_classifications)\n",
    "\n",
    "best_c=clf_LR_valid.best_params_.get('C')\n",
    "\n",
    "\n",
    "clf_LR = LogisticRegression(C=best_c).fit(train_dataset, train_classifications)\n",
    "\n"
   ]
  },
  {
   "cell_type": "markdown",
   "metadata": {},
   "source": [
    "<b>Instructions</b>: Using the best settings you have found, compare the two classifiers based on performance in the test set. Print out both accuracy and macroaveraged f-score for each classifier. Be sure to label your output. (0.5)"
   ]
  },
  {
   "cell_type": "code",
   "execution_count": 177,
   "metadata": {},
   "outputs": [
    {
     "name": "stdout",
     "output_type": "stream",
     "text": [
      "MultiNB:\n",
      "accuracy\n",
      "0.746\n",
      "             precision    recall  f1-score   support\n",
      "\n",
      "        neg       0.73      0.78      0.75       500\n",
      "        pos       0.76      0.71      0.74       500\n",
      "\n",
      "avg / total       0.75      0.75      0.75      1000\n",
      "\n",
      "macroaveraged f-score: 0.7457060361778216\n",
      "LR:\n",
      "accuracy\n",
      "0.747\n",
      "             precision    recall  f1-score   support\n",
      "\n",
      "        neg       0.72      0.80      0.76       500\n",
      "        pos       0.78      0.70      0.73       500\n",
      "\n",
      "avg / total       0.75      0.75      0.75      1000\n",
      "\n",
      "macroaveraged f-score: 0.7463402309406768\n"
     ]
    }
   ],
   "source": [
    "from sklearn.metrics import accuracy_score, classification_report,f1_score\n",
    "def check_results(predictions, classifications):\n",
    "    print(\"accuracy\")\n",
    "    print(accuracy_score(classifications,predictions))\n",
    "    print(classification_report(classifications,predictions))\n",
    "    print (\"macroaveraged f-score: \"+str(\n",
    "            f1_score(classifications, predictions, average='macro'))) \n",
    "\n",
    "NB_pred = clf_NB.predict(test_dataset)\n",
    "print (\"MultiNB:\")\n",
    "check_results(NB_pred,test_classifications)\n",
    "LR_pred = clf_LR.predict(test_dataset)\n",
    "print (\"LR:\")\n",
    "check_results(LR_pred,test_classifications)"
   ]
  },
  {
   "cell_type": "code",
   "execution_count": null,
   "metadata": {},
   "outputs": [],
   "source": []
  }
 ],
 "metadata": {
  "anaconda-cloud": {},
  "kernelspec": {
   "display_name": "Python 3",
   "language": "python",
   "name": "python3"
  },
  "language_info": {
   "codemirror_mode": {
    "name": "ipython",
    "version": 3
   },
   "file_extension": ".py",
   "mimetype": "text/x-python",
   "name": "python",
   "nbconvert_exporter": "python",
   "pygments_lexer": "ipython3",
   "version": "3.5.4"
  }
 },
 "nbformat": 4,
 "nbformat_minor": 1
}
